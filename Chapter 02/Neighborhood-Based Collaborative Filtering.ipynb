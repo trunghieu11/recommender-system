{
 "cells": [
  {
   "cell_type": "code",
   "execution_count": 1,
   "metadata": {},
   "outputs": [],
   "source": [
    "import pandas as pd\n",
    "from UserBasedCF import UserBasedCF"
   ]
  },
  {
   "cell_type": "markdown",
   "metadata": {},
   "source": [
    "# Preprocess"
   ]
  },
  {
   "cell_type": "code",
   "execution_count": 2,
   "metadata": {},
   "outputs": [],
   "source": [
    "df_ratings = pd.read_csv(\"../data/ml-latest-small/test_ratings.csv\")\n",
    "\n",
    "df_ratings = df_ratings.groupby([\"userId\"]).agg({\n",
    "    'movieId':lambda x : list(x),\n",
    "    'rating':lambda x : list(x)\n",
    "}).reset_index()"
   ]
  },
  {
   "cell_type": "code",
   "execution_count": 3,
   "metadata": {},
   "outputs": [],
   "source": [
    "df_movies = pd.read_csv(\"../data/ml-latest-small/movies.csv\")\n",
    "\n",
    "movies_info = dict()\n",
    "\n",
    "for row in df_movies.iterrows():\n",
    "    movies_info[row[1][\"movieId\"]] = \"\\\"\" + row[1][\"title\"] + \"\\\",\" + row[1][\"genres\"]"
   ]
  },
  {
   "cell_type": "markdown",
   "metadata": {},
   "source": [
    "# Suggest movie for a single user"
   ]
  },
  {
   "cell_type": "code",
   "execution_count": null,
   "metadata": {},
   "outputs": [],
   "source": [
    "def get_list_movie(uid, df):\n",
    "    cur_df = df[df[\"userId\"] == uid]\n",
    "    movies = list(cur_df[\"movieId\"])[0]\n",
    "    rating = list(cur_df[\"rating\"])[0]\n",
    "    return movies, rating\n",
    "\n",
    "\n",
    "def get_same_movies(movies1, movies2):\n",
    "    movies1 = set(movies1)\n",
    "    result = []\n",
    "    for x in movies2:\n",
    "        if x in movies1:\n",
    "            result.append(x)\n",
    "    return result\n",
    "\n",
    "\n",
    "def build_dict_rating(movies, ratings):\n",
    "    result = dict()\n",
    "    for i, val in enumerate(movies):\n",
    "        result[val] = ratings[i]\n",
    "    return result\n",
    "\n",
    "\n",
    "def calc_mean_rating(ratings):\n",
    "    return sum(ratings) / len(ratings)\n",
    "\n",
    "\n",
    "def calc_std(ratings, mean_rating):\n",
    "    if len(ratings) < 1:\n",
    "        return 1\n",
    "    \n",
    "    if len(ratings) < 2:\n",
    "        return ratings[0] - mean_rating\n",
    "    \n",
    "    return (sum((r - mean_rating)**2 for r in ratings) / (len(ratings) - 1))**0.5\n",
    "\n",
    "\n",
    "def calc_z_score(rating, mean_rating, std_rating):\n",
    "    return (rating - mean_rating) / std_rating\n",
    "\n",
    "\n",
    "def calc_similarity(u_uid, df, use_discount_sim=False, discount_sim_threshold=5):\n",
    "    u_movies, u_ratings = get_list_movie(u_uid, df)\n",
    "    u_rating_dict = build_dict_rating(u_movies, u_ratings)\n",
    "    u_mean_rating = calc_mean_rating(u_ratings)\n",
    "    \n",
    "    for row in df.iterrows():\n",
    "        if row[1][\"userId\"] != u_uid:\n",
    "            v_uid = row[1][\"userId\"]\n",
    "            v_movies, v_ratings = get_list_movie(v_uid, df)\n",
    "            v_rating_dict = build_dict_rating(v_movies, v_ratings)\n",
    "            v_mean_rating = calc_mean_rating(v_ratings)\n",
    "            \n",
    "            same_movies = get_same_movies(u_movies, v_movies)\n",
    "            \n",
    "            if len(same_movies) <= 0:\n",
    "                continue\n",
    "            \n",
    "            up_value = 0\n",
    "            for m in same_movies:\n",
    "                up_value += (u_rating_dict[m] - u_mean_rating) * (v_rating_dict[m] - v_mean_rating)\n",
    "                \n",
    "            down_value1 = 0\n",
    "            for m in same_movies:\n",
    "                down_value1 += (u_rating_dict[m] - u_mean_rating)**2\n",
    "            down_value1 = down_value1**0.5\n",
    "            \n",
    "            down_value2 = 0\n",
    "            for m in same_movies:\n",
    "                down_value2 += (v_rating_dict[m] - v_mean_rating)**2\n",
    "            down_value2 = down_value2**0.5\n",
    "            \n",
    "            if down_value1 * down_value2 == 0:\n",
    "                continue\n",
    "            \n",
    "            similarity_value = up_value / (down_value1 * down_value2)\n",
    "            \n",
    "            if use_discount_sim:\n",
    "                similarity_value *= min(len(same_movies), discount_sim_threshold) / discount_sim_threshold\n",
    "\n",
    "            yield similarity_value, len(same_movies), row[1]\n",
    "            \n",
    "            \n",
    "def suggest_new_movie(u_uid, df, top_k=50, \n",
    "                      use_discount_sim=False, \n",
    "                      discount_sim_threshold=5,\n",
    "                      use_z_score=False\n",
    "                     ):\n",
    "    similarities = list(x for x in calc_similarity(u_uid, df_ratings, use_discount_sim, discount_sim_threshold) if x[0] > 0)\n",
    "    similarities = sorted(similarities, key=lambda x:x[0], reverse=True)\n",
    "    \n",
    "    u_movies, u_ratings = get_list_movie(u_uid, df)\n",
    "    u_rating_dict = build_dict_rating(u_movies, u_ratings)\n",
    "    u_mean_rating = calc_mean_rating(u_ratings)\n",
    "    u_std = calc_std(u_ratings, u_mean_rating)\n",
    "    \n",
    "    all_movies = dict()\n",
    "    for val in similarities[0:top_k]:\n",
    "        for x in val[2][\"movieId\"]:\n",
    "            all_movies[x] = 0\n",
    "    \n",
    "    for movie in all_movies.keys():\n",
    "        have_rated = [x for x in similarities[0:top_k] if movie in x[2][\"movieId\"]]\n",
    "        \n",
    "        top_value = 0\n",
    "        down_value = 0\n",
    "        \n",
    "        if not use_z_score:\n",
    "            for v_user in have_rated:\n",
    "                v_movies, v_ratings = get_list_movie(v_user[2][\"userId\"], df)\n",
    "                v_rating_dict = build_dict_rating(v_movies, v_ratings)\n",
    "                v_mean_rating = calc_mean_rating(v_ratings)\n",
    "\n",
    "                sim_u_v = v_user[0]\n",
    "                top_value += sim_u_v * (v_rating_dict[movie] - v_mean_rating)\n",
    "                down_value += sim_u_v\n",
    "        \n",
    "            if down_value > 0:\n",
    "                all_movies[movie] = u_mean_rating + top_value / down_value\n",
    "        else:\n",
    "            for v_user in have_rated:\n",
    "                v_movies, v_ratings = get_list_movie(v_user[2][\"userId\"], df)\n",
    "                v_rating_dict = build_dict_rating(v_movies, v_ratings)\n",
    "                v_mean_rating = calc_mean_rating(v_ratings)\n",
    "                v_std = calc_std(v_ratings, v_mean_rating)\n",
    "                \n",
    "                sim_u_v = v_user[0]\n",
    "                top_value += sim_u_v * calc_z_score(v_rating_dict[movie], v_mean_rating, v_std)\n",
    "                down_value += sim_u_v\n",
    "            \n",
    "            if down_value > 0:\n",
    "                all_movies[movie] = u_mean_rating + u_std * top_value / down_value\n",
    "        \n",
    "    all_movies = [(movie, all_movies[movie]) for movie in sorted(all_movies, key=all_movies.get, reverse=True)]\n",
    "    return all_movies"
   ]
  },
  {
   "cell_type": "code",
   "execution_count": null,
   "metadata": {},
   "outputs": [],
   "source": [
    "def show_result(uid, suggest_movies, \n",
    "                top_k = 10, \n",
    "                df_ratings=df_ratings, \n",
    "                df_movies=df_movies,\n",
    "                file_path=\"../data/show_result.csv\"\n",
    "               ):\n",
    "    f = open(file_path, \"w\")\n",
    "    \n",
    "    movies, ratings = get_list_movie(uid, df_ratings)\n",
    "    print(\"Watched movies: \")\n",
    "    for m, r in zip(movies, ratings):\n",
    "        print(movies_info[m], \"rate: \", r)\n",
    "        f.write(str(m) + \",\" + movies_info[m] + \",\" + str(r) + \"\\n\")\n",
    "        \n",
    "    print(\"Suggest movies: \")\n",
    "    for m, s in suggest_movies[:top_k]:\n",
    "        print(movies_info[m], \"scores: \", s)\n",
    "        f.write(str(m) + \",\" + movies_info[m] + \",\" + str(s) + \"\\n\")"
   ]
  },
  {
   "cell_type": "code",
   "execution_count": null,
   "metadata": {},
   "outputs": [],
   "source": [
    "similarities = list(x for x in calc_similarity(3, df_ratings) if x[0] > 0)\n",
    "similarities = sorted(similarities, key=lambda x:x[0], reverse=True)"
   ]
  },
  {
   "cell_type": "code",
   "execution_count": null,
   "metadata": {},
   "outputs": [],
   "source": [
    "for val in similarities:\n",
    "    print(val)"
   ]
  },
  {
   "cell_type": "code",
   "execution_count": 4,
   "metadata": {},
   "outputs": [],
   "source": [
    "userbased_cf = UserBasedCF(df_ratings, df_movies)"
   ]
  },
  {
   "cell_type": "code",
   "execution_count": 5,
   "metadata": {},
   "outputs": [],
   "source": [
    "similarities = list(x for x in userbased_cf.calc_similarity(3) if x[0] > 0)\n",
    "similarities = sorted(similarities, key=lambda x:x[0], reverse=True)"
   ]
  },
  {
   "cell_type": "code",
   "execution_count": 6,
   "metadata": {},
   "outputs": [
    {
     "name": "stdout",
     "output_type": "stream",
     "text": [
      "(0.9384742644069303, 3, userId                             2\n",
      "movieId              [1, 2, 4, 5, 6]\n",
      "rating     [6.0, 7.0, 4.0, 3.0, 4.0]\n",
      "Name: 1, dtype: object)\n",
      "(0.8944271909999159, 4, userId                                  1\n",
      "movieId                [1, 2, 3, 4, 5, 6]\n",
      "rating     [7.0, 6.0, 7.0, 4.0, 5.0, 4.0]\n",
      "Name: 0, dtype: object)\n"
     ]
    }
   ],
   "source": [
    "for val in similarities:\n",
    "    print(val)"
   ]
  },
  {
   "cell_type": "code",
   "execution_count": null,
   "metadata": {},
   "outputs": [],
   "source": []
  }
 ],
 "metadata": {
  "kernelspec": {
   "display_name": "Python 3",
   "language": "python",
   "name": "python3"
  },
  "language_info": {
   "codemirror_mode": {
    "name": "ipython",
    "version": 3
   },
   "file_extension": ".py",
   "mimetype": "text/x-python",
   "name": "python",
   "nbconvert_exporter": "python",
   "pygments_lexer": "ipython3",
   "version": "3.7.2"
  }
 },
 "nbformat": 4,
 "nbformat_minor": 2
}
